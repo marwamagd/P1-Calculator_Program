{
 "cells": [
  {
   "cell_type": "code",
   "execution_count": 6,
   "id": "101b571b",
   "metadata": {
    "scrolled": false
   },
   "outputs": [
    {
     "name": "stdout",
     "output_type": "stream",
     "text": [
      "Enter the first number: 5\n",
      "+\n",
      "Enter the operetor: +\n",
      "Enter the second number: 3\n",
      "The Sumtion= 8.0\n"
     ]
    }
   ],
   "source": [
    "num1=input(\"Enter the first number: \")\n",
    "operetor=[\"+\",\"-\",\"*\",\"**\",\"/\",\"%\",\"//\"]\n",
    "print(op)\n",
    "op=input(\"Enter the operetor: \")\n",
    "num2=input(\"Enter the second number: \")\n",
    "if (op in operetor ):\n",
    "    if(num1.isdecimal() and num2.isdecimal()):\n",
    "        num1=float(num1)\n",
    "        num2=float(num2)\n",
    "        if(op==\"+\"):\n",
    "            print(\"The Sumtion=\",(num1)+(num2))\n",
    "        elif(op==\"-\"):\n",
    "            print(\"The Subtraction=\",(num1)-(num2))\n",
    "        elif(op==\"*\"): \n",
    "            print(\"The Multiplication=\",(num1)*(num2)) \n",
    "        elif(op==\"**\"):\n",
    "            print(\"The Exponent=\",(num1)**(num2)) \n",
    "        elif(op==\"/\" and num2!=0):\n",
    "            print(\"The Divsion=\",(num1)/(num2))\n",
    "        elif(op==\"%\" and num2!=0): \n",
    "            print(\"The Modulus=\",(num1)%(num2))   \n",
    "        elif(op==\"//\" and num2!=0):   \n",
    "            print(\"The Floor divtion=\",(num1)//(num2))  \n",
    "        else:\n",
    "            print(\"Cannot Division by zero\")\n",
    "    else:\n",
    "        print(\"Invalid Number\")\n",
    "else:\n",
    "    print(\"Invalid Operator\")"
   ]
  },
  {
   "cell_type": "code",
   "execution_count": null,
   "id": "0d0faba3",
   "metadata": {},
   "outputs": [],
   "source": []
  }
 ],
 "metadata": {
  "kernelspec": {
   "display_name": "Python 3 (ipykernel)",
   "language": "python",
   "name": "python3"
  },
  "language_info": {
   "codemirror_mode": {
    "name": "ipython",
    "version": 3
   },
   "file_extension": ".py",
   "mimetype": "text/x-python",
   "name": "python",
   "nbconvert_exporter": "python",
   "pygments_lexer": "ipython3",
   "version": "3.9.12"
  }
 },
 "nbformat": 4,
 "nbformat_minor": 5
}
